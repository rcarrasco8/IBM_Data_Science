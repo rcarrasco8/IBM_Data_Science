{
 "cells": [
  {
   "cell_type": "markdown",
   "id": "e235c217",
   "metadata": {},
   "source": [
    "# Data Science Tools and Ecosystem"
   ]
  },
  {
   "cell_type": "markdown",
   "id": "6574893a",
   "metadata": {},
   "source": [
    "In this notebook, Data Science Tools and Ecosystem are summarized."
   ]
  },
  {
   "cell_type": "markdown",
   "id": "ee5b4d75",
   "metadata": {},
   "source": [
    "***Objectives:***\n",
    "* List popular languages for Data Science\n",
    "* List popular libraries for Data Science\n",
    "* Simple code expressions"
   ]
  },
  {
   "cell_type": "markdown",
   "id": "2ff726ab",
   "metadata": {},
   "source": [
    "Some of the popular languages that Data Scientists use are:\n",
    "--------------------------------------------------------------------------------------\n",
    "1) python\n",
    "2) R\n",
    "3) SQL"
   ]
  },
  {
   "cell_type": "markdown",
   "id": "f57a4e12",
   "metadata": {},
   "source": [
    "Some of the commonly used libraries used by Data Scientists include:\n",
    "----------------------------------------------------------------------------------------------------\n",
    "1) pandas\n",
    "2) ggplot\n",
    "3) numpy"
   ]
  },
  {
   "cell_type": "markdown",
   "id": "8fa9957b",
   "metadata": {},
   "source": [
    "| Data Science Tools |\n",
    "-------------------------------\n",
    "| jupyter notebooks |\n",
    "| spyder |\n",
    "| google collab | \n"
   ]
  },
  {
   "cell_type": "markdown",
   "id": "f96bc5b7",
   "metadata": {},
   "source": [
    "### Below are a few examples of evaluating arithmetic expressions in Python"
   ]
  },
  {
   "cell_type": "code",
   "execution_count": 2,
   "id": "110fd08c",
   "metadata": {},
   "outputs": [
    {
     "data": {
      "text/plain": [
       "17"
      ]
     },
     "execution_count": 2,
     "metadata": {},
     "output_type": "execute_result"
    }
   ],
   "source": [
    "#This a simple arithmetic expression to mutiply then add integers\n",
    "(3*4)+5"
   ]
  },
  {
   "cell_type": "code",
   "execution_count": 4,
   "id": "6ac04f86",
   "metadata": {},
   "outputs": [
    {
     "data": {
      "text/plain": [
       "3.3333333333333335"
      ]
     },
     "execution_count": 4,
     "metadata": {},
     "output_type": "execute_result"
    }
   ],
   "source": [
    "#This will convert 200 minutes to hours by diving by 60\n",
    "200/60"
   ]
  },
  {
   "cell_type": "markdown",
   "id": "6b9ac804",
   "metadata": {},
   "source": [
    "## Author\n",
    "Roberto Carrasco"
   ]
  },
  {
   "cell_type": "code",
   "execution_count": null,
   "id": "026202ac",
   "metadata": {},
   "outputs": [],
   "source": []
  }
 ],
 "metadata": {
  "kernelspec": {
   "display_name": "Python 3 (ipykernel)",
   "language": "python",
   "name": "python3"
  },
  "language_info": {
   "codemirror_mode": {
    "name": "ipython",
    "version": 3
   },
   "file_extension": ".py",
   "mimetype": "text/x-python",
   "name": "python",
   "nbconvert_exporter": "python",
   "pygments_lexer": "ipython3",
   "version": "3.10.9"
  }
 },
 "nbformat": 4,
 "nbformat_minor": 5
}
